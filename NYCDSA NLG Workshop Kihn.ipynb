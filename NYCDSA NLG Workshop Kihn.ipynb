{
 "cells": [
  {
   "cell_type": "markdown",
   "id": "developing-ethnic",
   "metadata": {},
   "source": [
    "# Markov Chains"
   ]
  },
  {
   "cell_type": "code",
   "execution_count": 1,
   "id": "understanding-pastor",
   "metadata": {},
   "outputs": [],
   "source": [
    "import pandas as pd\n",
    "import numpy as np"
   ]
  },
  {
   "cell_type": "code",
   "execution_count": 12,
   "id": "hollow-honor",
   "metadata": {},
   "outputs": [
    {
     "data": {
      "text/plain": [
       "'/Users/martinkihn/Desktop/xmas_master_text'"
      ]
     },
     "execution_count": 12,
     "metadata": {},
     "output_type": "execute_result"
    }
   ],
   "source": [
    "import os\n",
    "os.chdir('/Users/martinkihn/Desktop/xmas_master_text')\n",
    "os.getcwd()"
   ]
  },
  {
   "cell_type": "code",
   "execution_count": 13,
   "id": "logical-norwegian",
   "metadata": {},
   "outputs": [
    {
     "name": "stdout",
     "output_type": "stream",
     "text": [
      "api_xmas_file.csv  text.txt           text_newlines.txt  xmas_titles.csv\r\n",
      "master_df.csv      text_as_list.csv   text_nopunc.txt\r\n"
     ]
    }
   ],
   "source": [
    "ls"
   ]
  },
  {
   "cell_type": "code",
   "execution_count": 16,
   "id": "virgin-surgeon",
   "metadata": {},
   "outputs": [],
   "source": [
    "f = open(\"text_nopunc.txt\", \"r+\")\n",
    "lines = f.readlines()\n",
    "lines = \"\".join(lines)\n",
    "text_list = lines.split()"
   ]
  },
  {
   "cell_type": "code",
   "execution_count": 17,
   "id": "acceptable-weekly",
   "metadata": {},
   "outputs": [
    {
     "data": {
      "text/plain": [
       "['a',\n",
       " 'skishop',\n",
       " 'owner',\n",
       " 'reluctantly',\n",
       " 'moves',\n",
       " 'himself',\n",
       " 'his',\n",
       " 'wife',\n",
       " 'and',\n",
       " 'his']"
      ]
     },
     "execution_count": 17,
     "metadata": {},
     "output_type": "execute_result"
    }
   ],
   "source": [
    "text_list[:10]"
   ]
  },
  {
   "cell_type": "code",
   "execution_count": 18,
   "id": "marine-stroke",
   "metadata": {},
   "outputs": [],
   "source": [
    "from collections import defaultdict\n",
    "markov_graph = defaultdict(lambda: defaultdict(int))"
   ]
  },
  {
   "cell_type": "code",
   "execution_count": 19,
   "id": "promising-albania",
   "metadata": {},
   "outputs": [],
   "source": [
    "tokenized_text = text_list"
   ]
  },
  {
   "cell_type": "code",
   "execution_count": 20,
   "id": "returning-motivation",
   "metadata": {},
   "outputs": [],
   "source": [
    "last_word = tokenized_text[0].lower()\n",
    "for word in tokenized_text[1:]:\n",
    "    word = word.lower()\n",
    "    markov_graph[last_word][word] += 1\n",
    "    last_word = word"
   ]
  },
  {
   "cell_type": "code",
   "execution_count": 21,
   "id": "ordered-crest",
   "metadata": {},
   "outputs": [
    {
     "name": "stdout",
     "output_type": "stream",
     "text": [
      "christmas carol\n",
      "christmas or\n",
      "christmas eve\n",
      "home and\n",
      "home to\n",
      "home for\n",
      "town of\n",
      "town dubs\n",
      "town grows\n"
     ]
    }
   ],
   "source": [
    "limit = 3\n",
    "for first_word in ('christmas', 'home', 'town'):\n",
    "    next_words = list(markov_graph[first_word].keys())[:limit]\n",
    "    for next_word in next_words:\n",
    "        print(first_word, next_word)"
   ]
  },
  {
   "cell_type": "code",
   "execution_count": 22,
   "id": "afraid-enlargement",
   "metadata": {},
   "outputs": [],
   "source": [
    "# start at random word - of possible choices take weighted random\n",
    "# choice using np.random.choice\n",
    "\n",
    "def walk_graph(graph, distance=5, start_node=None):\n",
    "    if distance <= 0:\n",
    "        return[]\n",
    "    \n",
    "    if not start_node:\n",
    "        start_node = np.random.choice(list(graph.keys()))\n",
    "    \n",
    "    weights = np.array(\n",
    "        list(markov_graph[start_node].values()),\n",
    "        dtype=np.float64)\n",
    "    #normalize word counts sum 1\n",
    "    weights /= weights.sum()\n",
    "    \n",
    "    #pick destination using weighted dist\n",
    "    choices = list(markov_graph[start_node].keys())\n",
    "    chosen_word = np.random.choice(choices, None, p=weights)\n",
    "    \n",
    "    return [chosen_word] + walk_graph(\n",
    "        graph, distance=distance-1,\n",
    "        start_node=chosen_word)"
   ]
  },
  {
   "cell_type": "code",
   "execution_count": 23,
   "id": "regular-clock",
   "metadata": {},
   "outputs": [
    {
     "name": "stdout",
     "output_type": "stream",
     "text": [
      "dies jason dumps her life the intercontinental trip becomes complicated when her \n",
      "\n",
      "that makes her sister is marooned for danny wise lifestyle books is \n",
      "\n",
      "her two young woman hes built an unexpected christmastime courtship filled with \n",
      "\n",
      "chris it safe in the process captain grace everything goes missing in \n",
      "\n",
      "appears for trespassing dispirited he says his selfless gesture leads to her \n",
      "\n",
      "demands days of the most important in new york publishing company holiday \n",
      "\n",
      "of her faith in hand alec who has dwindled taking care unit \n",
      "\n",
      "donnelly comes across america to the holidays or will pose as christmas \n",
      "\n",
      "struggles to see or the season hoping for a very much in \n",
      "\n",
      "in her meeting with him find happiness in the snow globe and \n",
      "\n"
     ]
    }
   ],
   "source": [
    "for i in range(10):\n",
    "    print(' '.join(walk_graph(\n",
    "        markov_graph, distance=12)), '\\n')"
   ]
  },
  {
   "cell_type": "code",
   "execution_count": 24,
   "id": "distinguished-transport",
   "metadata": {},
   "outputs": [],
   "source": [
    "# another method uses pairs of words\n",
    "\n",
    "def make_pairs(text_list):\n",
    "    for i in range(len(text_list)-1):\n",
    "        yield (text_list[i], text_list[i+1])\n",
    "        \n",
    "pairs = make_pairs(text_list)"
   ]
  },
  {
   "cell_type": "code",
   "execution_count": 25,
   "id": "sharp-panama",
   "metadata": {},
   "outputs": [
    {
     "data": {
      "text/plain": [
       "<generator object make_pairs at 0x7fe0d88774a0>"
      ]
     },
     "execution_count": 25,
     "metadata": {},
     "output_type": "execute_result"
    }
   ],
   "source": [
    "pairs"
   ]
  },
  {
   "cell_type": "code",
   "execution_count": 26,
   "id": "manufactured-italy",
   "metadata": {},
   "outputs": [],
   "source": [
    "word_dict = {}\n",
    "\n",
    "for word_1, word_2 in pairs:\n",
    "    if word_1 in word_dict.keys():\n",
    "        word_dict[word_1].append(word_2)\n",
    "    else:\n",
    "        word_dict[word_1] = [word_2]"
   ]
  },
  {
   "cell_type": "code",
   "execution_count": 27,
   "id": "confident-aurora",
   "metadata": {},
   "outputs": [
    {
     "data": {
      "text/plain": [
       "'the'"
      ]
     },
     "execution_count": 27,
     "metadata": {},
     "output_type": "execute_result"
    }
   ],
   "source": [
    "first_word = np.random.choice(text_list)\n",
    "first_word"
   ]
  },
  {
   "cell_type": "code",
   "execution_count": 28,
   "id": "institutional-copper",
   "metadata": {},
   "outputs": [
    {
     "data": {
      "text/plain": [
       "'the house she meets her humanitarian spirit of the new york nicks restaurant to be the gallerys big christmas while in the other after the hospitals new lastminute european holiday tradition'"
      ]
     },
     "execution_count": 28,
     "metadata": {},
     "output_type": "execute_result"
    }
   ],
   "source": [
    "chain = [first_word]\n",
    "n_words = 30\n",
    "\n",
    "# the next words are sampled randomly from the following words\n",
    "for i in range(n_words):\n",
    "    chain.append(np.random.choice(word_dict[chain[-1]]))\n",
    "\n",
    "' '.join(chain)"
   ]
  },
  {
   "cell_type": "code",
   "execution_count": 29,
   "id": "square-producer",
   "metadata": {},
   "outputs": [
    {
     "data": {
      "text/plain": [
       "'career to a foolproof strategy for its original grandeur only one week before when her world of her and coincidences and ryan mason cooka holiday complications arise that would help from her childhood friend and marry boyfriend but is matched with her hometown christmas when a woman she has lost when her high school they invite their siblings jim and read the car and part of classic holiday season when a lot she helps her sixyearold son he begins to the citys oldest son jordan jordan finds herself drawn to inherit the wedding of the disgraced former classmates in the mistletoe'"
      ]
     },
     "execution_count": 29,
     "metadata": {},
     "output_type": "execute_result"
    }
   ],
   "source": [
    "chain = ['career']\n",
    "n_words = 100\n",
    "for i in range(n_words):\n",
    "    chain.append(np.random.choice(word_dict[chain[-1]]))\n",
    "\n",
    "' '.join(chain)"
   ]
  },
  {
   "cell_type": "markdown",
   "id": "married-rogers",
   "metadata": {},
   "source": [
    "# Transformers and NLG with GPT=2"
   ]
  },
  {
   "cell_type": "code",
   "execution_count": 31,
   "id": "uniform-trail",
   "metadata": {},
   "outputs": [],
   "source": [
    "# train and test text files are set up via the right path"
   ]
  },
  {
   "cell_type": "code",
   "execution_count": 33,
   "id": "structured-toner",
   "metadata": {},
   "outputs": [
    {
     "name": "stdout",
     "output_type": "stream",
     "text": [
      "api_xmas_file.csv      text_as_list.csv       text_newlines.txt\r\n",
      "master_df.csv          text_as_list_test.csv  text_nopunc.txt\r\n",
      "text.txt               text_as_list_train.csv xmas_titles.csv\r\n"
     ]
    }
   ],
   "source": [
    "!ls"
   ]
  },
  {
   "cell_type": "code",
   "execution_count": 34,
   "id": "foster-driver",
   "metadata": {},
   "outputs": [],
   "source": [
    "train_path = 'text_as_list_train.csv'\n",
    "test_path = 'text_as_list_test.csv'"
   ]
  },
  {
   "cell_type": "code",
   "execution_count": 35,
   "id": "controlling-envelope",
   "metadata": {},
   "outputs": [
    {
     "name": "stdout",
     "output_type": "stream",
     "text": [
      "Requirement already satisfied: transformers in /Users/martinkihn/opt/anaconda3/lib/python3.8/site-packages (4.3.2)\n",
      "Requirement already satisfied: filelock in /Users/martinkihn/opt/anaconda3/lib/python3.8/site-packages (from transformers) (3.0.12)\n",
      "Requirement already satisfied: sacremoses in /Users/martinkihn/opt/anaconda3/lib/python3.8/site-packages (from transformers) (0.0.43)\n",
      "Requirement already satisfied: tqdm>=4.27 in /Users/martinkihn/opt/anaconda3/lib/python3.8/site-packages (from transformers) (4.56.0)\n",
      "Requirement already satisfied: regex!=2019.12.17 in /Users/martinkihn/opt/anaconda3/lib/python3.8/site-packages (from transformers) (2020.11.13)\n",
      "Requirement already satisfied: requests in /Users/martinkihn/opt/anaconda3/lib/python3.8/site-packages (from transformers) (2.25.1)\n",
      "Requirement already satisfied: tokenizers<0.11,>=0.10.1 in /Users/martinkihn/opt/anaconda3/lib/python3.8/site-packages (from transformers) (0.10.1)\n",
      "Requirement already satisfied: numpy>=1.17 in /Users/martinkihn/opt/anaconda3/lib/python3.8/site-packages (from transformers) (1.20.1)\n",
      "Requirement already satisfied: packaging in /Users/martinkihn/opt/anaconda3/lib/python3.8/site-packages (from transformers) (20.9)\n",
      "Requirement already satisfied: pyparsing>=2.0.2 in /Users/martinkihn/opt/anaconda3/lib/python3.8/site-packages (from packaging->transformers) (2.4.7)\n",
      "Requirement already satisfied: idna<3,>=2.5 in /Users/martinkihn/opt/anaconda3/lib/python3.8/site-packages (from requests->transformers) (2.10)\n",
      "Requirement already satisfied: chardet<5,>=3.0.2 in /Users/martinkihn/opt/anaconda3/lib/python3.8/site-packages (from requests->transformers) (4.0.0)\n",
      "Requirement already satisfied: urllib3<1.27,>=1.21.1 in /Users/martinkihn/opt/anaconda3/lib/python3.8/site-packages (from requests->transformers) (1.26.3)\n",
      "Requirement already satisfied: certifi>=2017.4.17 in /Users/martinkihn/opt/anaconda3/lib/python3.8/site-packages (from requests->transformers) (2020.12.5)\n",
      "Requirement already satisfied: click in /Users/martinkihn/opt/anaconda3/lib/python3.8/site-packages (from sacremoses->transformers) (7.1.2)\n",
      "Requirement already satisfied: joblib in /Users/martinkihn/opt/anaconda3/lib/python3.8/site-packages (from sacremoses->transformers) (1.0.1)\n",
      "Requirement already satisfied: six in /Users/martinkihn/opt/anaconda3/lib/python3.8/site-packages (from sacremoses->transformers) (1.15.0)\n"
     ]
    }
   ],
   "source": [
    "!pip install transformers"
   ]
  },
  {
   "cell_type": "code",
   "execution_count": 36,
   "id": "cardiac-cosmetic",
   "metadata": {},
   "outputs": [],
   "source": [
    "from transformers import (\n",
    "    GPT2Tokenizer,\n",
    "    DataCollatorForLanguageModeling,\n",
    "    TextDataset,\n",
    "    GPT2LMHeadModel,\n",
    "    TrainingArguments,\n",
    "    Trainer,\n",
    "    pipeline)"
   ]
  },
  {
   "cell_type": "code",
   "execution_count": 37,
   "id": "massive-techno",
   "metadata": {},
   "outputs": [
    {
     "data": {
      "application/vnd.jupyter.widget-view+json": {
       "model_id": "9982e5e13d004f8aae6c3f87aa1ed404",
       "version_major": 2,
       "version_minor": 0
      },
      "text/plain": [
       "Downloading:   0%|          | 0.00/1.04M [00:00<?, ?B/s]"
      ]
     },
     "metadata": {},
     "output_type": "display_data"
    },
    {
     "data": {
      "application/vnd.jupyter.widget-view+json": {
       "model_id": "d4a27697619f4ed0b50ae5fb4cf2b259",
       "version_major": 2,
       "version_minor": 0
      },
      "text/plain": [
       "Downloading:   0%|          | 0.00/456k [00:00<?, ?B/s]"
      ]
     },
     "metadata": {},
     "output_type": "display_data"
    }
   ],
   "source": [
    "tokenizer = GPT2Tokenizer.from_pretrained(\"gpt2\")"
   ]
  },
  {
   "cell_type": "code",
   "execution_count": 38,
   "id": "living-guarantee",
   "metadata": {},
   "outputs": [
    {
     "name": "stdout",
     "output_type": "stream",
     "text": [
      "vocab size: 50257, max seq len: 1024\n"
     ]
    }
   ],
   "source": [
    "print('vocab size: %d, max seq len: %d' % (tokenizer.vocab_size, tokenizer.model_max_length))"
   ]
  },
  {
   "cell_type": "code",
   "execution_count": 39,
   "id": "capital-offense",
   "metadata": {},
   "outputs": [],
   "source": [
    "data_collator = DataCollatorForLanguageModeling(tokenizer=tokenizer, mlm=False)"
   ]
  },
  {
   "cell_type": "code",
   "execution_count": 40,
   "id": "metropolitan-snowboard",
   "metadata": {},
   "outputs": [
    {
     "name": "stderr",
     "output_type": "stream",
     "text": [
      "/Users/martinkihn/opt/anaconda3/lib/python3.8/site-packages/transformers/data/datasets/language_modeling.py:54: FutureWarning: This dataset will be removed from the library soon, preprocessing should be handled with the 🤗 Datasets library. You can have a look at this example script for pointers: https://github.com/huggingface/transformers/blob/master/examples/language-modeling/run_mlm.py\n",
      "  warnings.warn(\n"
     ]
    }
   ],
   "source": [
    "train_dataset = TextDataset(\n",
    "    tokenizer=tokenizer,\n",
    "    file_path=train_path,\n",
    "    block_size=126)\n",
    "\n",
    "test_dataset = TextDataset(\n",
    "    tokenizer=tokenizer,\n",
    "    file_path=test_path,\n",
    "    block_size=126)"
   ]
  },
  {
   "cell_type": "code",
   "execution_count": 41,
   "id": "engaging-penny",
   "metadata": {},
   "outputs": [
    {
     "name": "stdout",
     "output_type": "stream",
     "text": [
      " and have not celebrated Christmas since. They have been so consumed by his death that they have forgotten the joys of the holidays, until a mysterious visitor enters their lives and rekindles the spirit of the season.\n",
      "When a photojournalist photographs a mysterious stranger performing an act of bravery, the act quickly becomes headline news and the town dubs the stranger John Christmas. After seeing the photo, Kathleen McAllister becomes convinced that the mysterious stranger is in fact her long-lost brother Hank. With the towns help, Kathleen and Noah set about to find the strangers true identity with the help Max, a Christmas angel.\n",
      "\n"
     ]
    }
   ],
   "source": [
    "print(tokenizer.decode(train_dataset[4]))"
   ]
  },
  {
   "cell_type": "code",
   "execution_count": 42,
   "id": "bronze-ballot",
   "metadata": {},
   "outputs": [
    {
     "data": {
      "application/vnd.jupyter.widget-view+json": {
       "model_id": "8a862a569aba4b218f321ead30f067c2",
       "version_major": 2,
       "version_minor": 0
      },
      "text/plain": [
       "Downloading:   0%|          | 0.00/665 [00:00<?, ?B/s]"
      ]
     },
     "metadata": {},
     "output_type": "display_data"
    },
    {
     "data": {
      "application/vnd.jupyter.widget-view+json": {
       "model_id": "2b68574a74bb496dba39347429a32841",
       "version_major": 2,
       "version_minor": 0
      },
      "text/plain": [
       "Downloading:   0%|          | 0.00/548M [00:00<?, ?B/s]"
      ]
     },
     "metadata": {},
     "output_type": "display_data"
    }
   ],
   "source": [
    "model = GPT2LMHeadModel.from_pretrained('gpt2')"
   ]
  },
  {
   "cell_type": "code",
   "execution_count": 45,
   "id": "legislative-usage",
   "metadata": {},
   "outputs": [
    {
     "name": "stderr",
     "output_type": "stream",
     "text": [
      "W&B installed but not logged in. Run `wandb login` or set the WANDB_API_KEY env variable.\n"
     ]
    }
   ],
   "source": [
    "training_args = TrainingArguments(\n",
    "    output_dir = 'data/out',\n",
    "    overwrite_output_dir = True,\n",
    "    per_device_train_batch_size = 32,\n",
    "    per_device_eval_batch_size = 32,\n",
    "    learning_rate = 5e-5,\n",
    "    num_train_epochs = 10\n",
    ")\n",
    "\n",
    "trainer = Trainer(\n",
    "    model = model,\n",
    "    args = training_args,\n",
    "    data_collator=data_collator,\n",
    "    train_dataset = train_dataset,\n",
    "    eval_dataset = test_dataset\n",
    ")"
   ]
  },
  {
   "cell_type": "code",
   "execution_count": 46,
   "id": "foster-milton",
   "metadata": {},
   "outputs": [
    {
     "data": {
      "text/html": [
       "\n",
       "    <div>\n",
       "        <style>\n",
       "            /* Turns off some styling */\n",
       "            progress {\n",
       "                /* gets rid of default border in Firefox and Opera. */\n",
       "                border: none;\n",
       "                /* Needs to be in here for Safari polyfill so background images work as expected. */\n",
       "                background-size: auto;\n",
       "            }\n",
       "        </style>\n",
       "      \n",
       "      <progress value='50' max='50' style='width:300px; height:20px; vertical-align: middle;'></progress>\n",
       "      [50/50 38:41, Epoch 10/10]\n",
       "    </div>\n",
       "    <table border=\"1\" class=\"dataframe\">\n",
       "  <thead>\n",
       "    <tr style=\"text-align: left;\">\n",
       "      <th>Step</th>\n",
       "      <th>Training Loss</th>\n",
       "    </tr>\n",
       "  </thead>\n",
       "  <tbody>\n",
       "  </tbody>\n",
       "</table><p>"
      ],
      "text/plain": [
       "<IPython.core.display.HTML object>"
      ]
     },
     "metadata": {},
     "output_type": "display_data"
    },
    {
     "data": {
      "text/plain": [
       "TrainOutput(global_step=50, training_loss=3.0897314453125, metrics={'train_runtime': 2375.011, 'train_samples_per_second': 0.021, 'total_flos': 127003268044800, 'epoch': 10.0})"
      ]
     },
     "execution_count": 46,
     "metadata": {},
     "output_type": "execute_result"
    }
   ],
   "source": [
    "trainer.train()"
   ]
  },
  {
   "cell_type": "code",
   "execution_count": 47,
   "id": "super-rocket",
   "metadata": {},
   "outputs": [],
   "source": [
    "trainer.save_model()"
   ]
  },
  {
   "cell_type": "code",
   "execution_count": 48,
   "id": "nuclear-anchor",
   "metadata": {},
   "outputs": [
    {
     "data": {
      "application/vnd.jupyter.widget-view+json": {
       "model_id": "0f29f731f6c54bb59722dd304ca71d0e",
       "version_major": 2,
       "version_minor": 0
      },
      "text/plain": [
       "Downloading:   0%|          | 0.00/1.36M [00:00<?, ?B/s]"
      ]
     },
     "metadata": {},
     "output_type": "display_data"
    }
   ],
   "source": [
    "generator = pipeline('text-generation', tokenizer='gpt2', model='data/out')"
   ]
  },
  {
   "cell_type": "code",
   "execution_count": 49,
   "id": "owned-vegetation",
   "metadata": {},
   "outputs": [
    {
     "name": "stderr",
     "output_type": "stream",
     "text": [
      "Setting `pad_token_id` to `eos_token_id`:50256 for open-end generation.\n"
     ]
    },
    {
     "name": "stdout",
     "output_type": "stream",
     "text": [
      "As Christmas approaches, two young men, Nick and Sam—all professionals together at the firm of Little John—get together for the first time since they lost their parents during the winter. Nick asks for cash to help settle the score, while Sam agrees to let him stay and help Nick work as Santa. Despite their troubles, Nick and Sam find a way to help each other and avoid more problems.\n",
      "When two young actresses find themselves falling for each other, they need new romance to keep each busy. Two years after she took the helm of their Broadway production, Elle Murphy, a high school junior, finds herself playing the role of Victoria, who has her own separate romance with her boyfriend. But before long, Elle must decide if she'd rather be with Ben, who has his own problems, or with Elle. What will happen when the wedding turns into a Christmas romance?\n",
      "Sophie Bell, a senior at the prestigious Victoria Public School, was diagnosed with multiple sclerosis,\n"
     ]
    }
   ],
   "source": [
    "print(generator('As Christmas approaches', max_length=200)[0]['generated_text'])"
   ]
  },
  {
   "cell_type": "code",
   "execution_count": 50,
   "id": "deluxe-morrison",
   "metadata": {},
   "outputs": [
    {
     "name": "stderr",
     "output_type": "stream",
     "text": [
      "Setting `pad_token_id` to `eos_token_id`:50256 for open-end generation.\n"
     ]
    },
    {
     "name": "stdout",
     "output_type": "stream",
     "text": [
      "The holiday season is filled with surprises for the people of Philadelphia and the town’s beloved Christmas spirit. As the town’s best-known ski lodge and snow lodge are divided between Santa and his family, a new opportunity presents itself when two new faces – Jenna and Alex – become the focus of a rivalry by creating a holiday spirit that will change every Christmas.\n",
      "Jack Bauer: The Secret Service’s toughest sergeant has a plan during the holiday season to use the power of the Christmas app to infiltrate and save the town’s most important Christmas celebration. When the Secret Service’s tough sergeant uses his new initiative to protect Christmas, he has no idea who to trust.\n",
      "New England’s oldest public school teacher is sent to the town of Ashfield to help with a teacher training program whose students are struggling with Christmas preparation and the pressure of the holiday season.\n",
      "When a young boy discovers that love is real, his love for God quickly turns to Christmas\n"
     ]
    }
   ],
   "source": [
    "print(generator('The holiday season', max_length=200)[0]['generated_text'])"
   ]
  },
  {
   "cell_type": "code",
   "execution_count": 51,
   "id": "seven-sigma",
   "metadata": {},
   "outputs": [
    {
     "name": "stderr",
     "output_type": "stream",
     "text": [
      "Setting `pad_token_id` to `eos_token_id`:50256 for open-end generation.\n"
     ]
    },
    {
     "name": "stdout",
     "output_type": "stream",
     "text": [
      "A chance meeting with the man responsible for creating the world's most famous Christmas tree decorating contest.\n",
      "A young woman finds herself falling in love with a handsome young man, who she believes to be her real father. As she tries to figure out\n"
     ]
    }
   ],
   "source": [
    "# there are different way to decode the next-best-word model known\n",
    "# as beam search, random samples, k-samples - below we compare\n",
    "# the output\n",
    "\n",
    "text_beam = generator('A chance meeting',\n",
    "                      max_length = 50,\n",
    "                      num_beams = 5)\n",
    "print(text_beam[0]['generated_text'])"
   ]
  },
  {
   "cell_type": "code",
   "execution_count": 52,
   "id": "tender-volleyball",
   "metadata": {},
   "outputs": [
    {
     "name": "stderr",
     "output_type": "stream",
     "text": [
      "Setting `pad_token_id` to `eos_token_id`:50256 for open-end generation.\n"
     ]
    },
    {
     "name": "stdout",
     "output_type": "stream",
     "text": [
      "A chance meeting with the owner of the building, Charles, and their two sons, David and Chris, will bring a renewed sense of community to the small town.\n",
      "As she prepares to leave her post as CEO of a small-town bakery,\n"
     ]
    }
   ],
   "source": [
    "text_random_sampling = generator('A chance meeting',\n",
    "                                 max_length=50,\n",
    "                                 top_k=0,\n",
    "                                 do_sample=True,\n",
    "                                 temperature=0.5)\n",
    "print(text_random_sampling[0]['generated_text'])"
   ]
  },
  {
   "cell_type": "code",
   "execution_count": 53,
   "id": "industrial-tobacco",
   "metadata": {},
   "outputs": [
    {
     "name": "stderr",
     "output_type": "stream",
     "text": [
      "Setting `pad_token_id` to `eos_token_id`:50256 for open-end generation.\n"
     ]
    },
    {
     "name": "stdout",
     "output_type": "stream",
     "text": [
      "A chance meeting with Tom’s former high school coach, Tom Hartman, to talk about family and Christmas would seem to make a lasting difference to the young man and his family’s Christmas traditions. However, a mysterious and dangerous man\n"
     ]
    }
   ],
   "source": [
    "text_k_sampling = generator('A chance meeting',\n",
    "                            max_length=50,\n",
    "                            top_k=40,\n",
    "                            do_sample=True)\n",
    "print(text_k_sampling[0]['generated_text'])"
   ]
  },
  {
   "cell_type": "code",
   "execution_count": 54,
   "id": "headed-failing",
   "metadata": {},
   "outputs": [
    {
     "name": "stderr",
     "output_type": "stream",
     "text": [
      "Setting `pad_token_id` to `eos_token_id`:50256 for open-end generation.\n"
     ]
    },
    {
     "name": "stdout",
     "output_type": "stream",
     "text": [
      "A chance meeting with the woman doesn't get her on the subject long, until Holly, a Seattle City Councilman with close ties to Major League Baseball, learns that Celine is the real deal. While Holly initially believes she's stepping down from her\n"
     ]
    }
   ],
   "source": [
    "text_p_sampling = generator('A chance meeting',\n",
    "                            max_length=50,\n",
    "                            top_k=0,\n",
    "                            top_p=0.92,\n",
    "                            do_sample=True)\n",
    "print(text_p_sampling[0]['generated_text'])"
   ]
  },
  {
   "cell_type": "code",
   "execution_count": null,
   "id": "foreign-robert",
   "metadata": {},
   "outputs": [],
   "source": []
  }
 ],
 "metadata": {
  "kernelspec": {
   "display_name": "Python 3",
   "language": "python",
   "name": "python3"
  },
  "language_info": {
   "codemirror_mode": {
    "name": "ipython",
    "version": 3
   },
   "file_extension": ".py",
   "mimetype": "text/x-python",
   "name": "python",
   "nbconvert_exporter": "python",
   "pygments_lexer": "ipython3",
   "version": "3.8.8"
  }
 },
 "nbformat": 4,
 "nbformat_minor": 5
}
